{
 "cells": [
  {
   "cell_type": "code",
   "execution_count": 1,
   "id": "10094601",
   "metadata": {},
   "outputs": [],
   "source": [
    "import sqlite3\n",
    "from sqlite3 import Error"
   ]
  },
  {
   "cell_type": "code",
   "execution_count": 2,
   "id": "4feefd62",
   "metadata": {},
   "outputs": [],
   "source": [
    "def crate_connection(path):\n",
    "    connection = None\n",
    "    try:\n",
    "        connection = sqlite3.connect(path)\n",
    "        print(\"Connection reached successfully!\")\n",
    "    except Error as e:\n",
    "        print(f\"Error '{e}' occured\")\n",
    "        \n",
    "    return connection\n"
   ]
  },
  {
   "cell_type": "code",
   "execution_count": 3,
   "id": "21cb06cd",
   "metadata": {},
   "outputs": [
    {
     "name": "stdout",
     "output_type": "stream",
     "text": [
      "Connection reached successfully!\n"
     ]
    }
   ],
   "source": [
    "connection = crate_connection('E:\\\\sm_app.sqlite')"
   ]
  },
  {
   "cell_type": "code",
   "execution_count": 4,
   "id": "74de2065",
   "metadata": {},
   "outputs": [],
   "source": [
    "def execute_query(connection, query):\n",
    "    cursor = connection.cursor()\n",
    "    try:\n",
    "        cursor.execute(query)\n",
    "        connection.commit()\n",
    "        print(\"Query has been done successfully\")\n",
    "    except Error as e:\n",
    "        print(f\"Ocured some problems '{e}'\")\n",
    "    \n",
    "    "
   ]
  },
  {
   "cell_type": "code",
   "execution_count": 5,
   "id": "96040074",
   "metadata": {},
   "outputs": [],
   "source": [
    "create_uss_table = \"\"\"\n",
    "CREATE TABLE IF NOT EXISTS users(\n",
    "id INTEGER PRIMARY KEY AUTOINCREMENT,\n",
    "name TEXT NOT NULL,\n",
    "age INTEGER,\n",
    "gender TEXT,\n",
    "nationality TEXT\n",
    ");\n",
    "\"\"\""
   ]
  },
  {
   "cell_type": "code",
   "execution_count": 6,
   "id": "54776f63",
   "metadata": {},
   "outputs": [
    {
     "name": "stdout",
     "output_type": "stream",
     "text": [
      "Query has been done successfully\n"
     ]
    }
   ],
   "source": [
    "execute_query(connection, create_uss_table)"
   ]
  },
  {
   "cell_type": "code",
   "execution_count": 7,
   "id": "c41cc73c",
   "metadata": {},
   "outputs": [],
   "source": [
    "create_post_table=\"\"\"\n",
    "CREATE TABLE IF NOT EXISTS post(\n",
    "id INTEGER PRIMARY KEY AUTOINCREMENT,\n",
    "title TEXT NOT NULL, \n",
    "description TEXT NOT NULL, \n",
    "user_id INTEGER NOT NULL, \n",
    "FOREIGN KEY (user_id) REFERENCES users (id)\n",
    ");\n",
    "\"\"\""
   ]
  },
  {
   "cell_type": "code",
   "execution_count": 8,
   "id": "3c00d144",
   "metadata": {},
   "outputs": [
    {
     "name": "stdout",
     "output_type": "stream",
     "text": [
      "Query has been done successfully\n"
     ]
    }
   ],
   "source": [
    "execute_query(connection, create_post_table)"
   ]
  },
  {
   "cell_type": "code",
   "execution_count": 9,
   "id": "63162a03",
   "metadata": {},
   "outputs": [
    {
     "name": "stdout",
     "output_type": "stream",
     "text": [
      "Query has been done successfully\n",
      "Query has been done successfully\n"
     ]
    }
   ],
   "source": [
    "create_comments_table=\"\"\"\n",
    "CREATE TABLE IF NOT EXISTS comments(\n",
    "    id INTEGER PRIMARY KEY AUTOINCREMENT,\n",
    "    text TEXT NOT NULL, \n",
    "    user_id INTEGER NOT NULL, \n",
    "    post_id INTEGER NOT NULL,\n",
    "    FOREIGN KEY (user_id) REFERENCES users (id) FOREIGN KEY (post_id) REFERENCES post (id)\n",
    ");\n",
    "\"\"\"\n",
    "\n",
    "create_likes_table=\"\"\"\n",
    "    CREATE TABLE IF NOT EXISTS likes (\n",
    "        id INTEGER PRIMARY KEY AUTOINCREMENT,\n",
    "        user_id INTEGER NOT NULL, \n",
    "        post_id integer NOT NULL, \n",
    "        FOREIGN KEY (user_id) REFERENCES users (id) FOREIGN KEY (post_id) REFERENCES post (id)\n",
    "    );\n",
    "\"\"\"\n",
    "\n",
    "execute_query(connection, create_comments_table)\n",
    "execute_query(connection, create_likes_table)"
   ]
  },
  {
   "cell_type": "code",
   "execution_count": 10,
   "id": "e744fe1c",
   "metadata": {},
   "outputs": [
    {
     "name": "stdout",
     "output_type": "stream",
     "text": [
      "Query has been done successfully\n"
     ]
    }
   ],
   "source": [
    "create_users = \"\"\"\n",
    "INSERT INTO \n",
    "    users(name, age, gender, nationality)\n",
    "VALUES\n",
    "    ('James', 25, 'male', 'USA'),\n",
    "    ('Leila', 32, 'female', 'France'),\n",
    "    ('Brigitte', 35, 'female', 'England'),\n",
    "    ('Mike', 40, 'male', 'Denmark'),\n",
    "    ('Elizabeth', 21, 'female', 'Canada');\n",
    "\"\"\"\n",
    "execute_query(connection, create_users)"
   ]
  },
  {
   "cell_type": "code",
   "execution_count": 11,
   "id": "cd917983",
   "metadata": {},
   "outputs": [
    {
     "name": "stdout",
     "output_type": "stream",
     "text": [
      "Query has been done successfully\n"
     ]
    }
   ],
   "source": [
    "create_posts = \"\"\"\n",
    "INSERT INTO \n",
    "    post(title, description, user_id)\n",
    "VALUES\n",
    "    (\"Happy\", \"I am feeling very happy today\", 1),\n",
    "  (\"Hot Weather\", \"The weather is very hot today\", 2),\n",
    "  (\"Help\", \"I need some help with my work\", 2),\n",
    "  (\"Great News\", \"I am getting married\", 1),\n",
    "  (\"Interesting Game\", \"It was a fantastic game of tennis\", 5),\n",
    "  (\"Party\", \"Anyone up for a late-night party today?\", 3);\n",
    "\"\"\"\n",
    "execute_query(connection, create_posts)"
   ]
  },
  {
   "cell_type": "code",
   "execution_count": 12,
   "id": "f0c433af",
   "metadata": {},
   "outputs": [
    {
     "name": "stdout",
     "output_type": "stream",
     "text": [
      "Query has been done successfully\n",
      "Query has been done successfully\n"
     ]
    }
   ],
   "source": [
    "create_comments= \"\"\"\n",
    "INSERT INTO \n",
    "    comments(text, user_id, post_id)\n",
    "VALUES\n",
    "    ('Count me in', 1, 6),\n",
    "  ('What sort of help?', 5, 3),\n",
    "  ('Congrats buddy', 2, 4),\n",
    "  ('I was rooting for Nadal though', 4, 5),\n",
    "  ('Help with your thesis?', 2, 3),\n",
    "  ('Many congratulations', 5, 4);\n",
    "\"\"\"\n",
    "\n",
    "create_likes = \"\"\"\n",
    "INSERT INTO \n",
    "    likes(user_id, post_id)\n",
    "VALUES\n",
    "    (1, 6),\n",
    "  (2, 3),\n",
    "  (1, 5),\n",
    "  (5, 4),\n",
    "  (2, 4),\n",
    "  (4, 2),\n",
    "  (3, 6);\n",
    "\"\"\"\n",
    "\n",
    "execute_query(connection, create_comments)\n",
    "execute_query(connection, create_likes)"
   ]
  },
  {
   "cell_type": "code",
   "execution_count": 13,
   "id": "19683497",
   "metadata": {},
   "outputs": [],
   "source": [
    "def execute_read_query(connection, query):\n",
    "    cursor = connection.cursor()\n",
    "    result = None\n",
    "    try:\n",
    "        cursor.execute(query)\n",
    "        result = cursor.fetchall()\n",
    "        return result\n",
    "    except Error as e:\n",
    "        print(f\"Occurred some {e} question\")"
   ]
  },
  {
   "cell_type": "code",
   "execution_count": 14,
   "id": "396f3ea8",
   "metadata": {},
   "outputs": [
    {
     "name": "stdout",
     "output_type": "stream",
     "text": [
      "(1, 'James', 25, 'male', 'USA')\n",
      "(2, 'Leila', 32, 'female', 'France')\n",
      "(3, 'Brigitte', 35, 'female', 'England')\n",
      "(4, 'Mike', 40, 'male', 'Denmark')\n",
      "(5, 'Elizabeth', 21, 'female', 'Canada')\n",
      "(6, 'James', 25, 'male', 'USA')\n",
      "(7, 'Leila', 32, 'female', 'France')\n",
      "(8, 'Brigitte', 35, 'female', 'England')\n",
      "(9, 'Mike', 40, 'male', 'Denmark')\n",
      "(10, 'Elizabeth', 21, 'female', 'Canada')\n",
      "(11, 'James', 25, 'male', 'USA')\n",
      "(12, 'Leila', 32, 'female', 'France')\n",
      "(13, 'Brigitte', 35, 'female', 'England')\n",
      "(14, 'Mike', 40, 'male', 'Denmark')\n",
      "(15, 'Elizabeth', 21, 'female', 'Canada')\n"
     ]
    }
   ],
   "source": [
    "select_users = \"SELECT * from users\"\n",
    "users = execute_read_query(connection, select_users)\n",
    "\n",
    "for user in users:\n",
    "    print(user)"
   ]
  },
  {
   "cell_type": "code",
   "execution_count": 15,
   "id": "a5639a50",
   "metadata": {},
   "outputs": [
    {
     "name": "stdout",
     "output_type": "stream",
     "text": [
      "(1, 'Happy', 'I am feeling very happy today', 1)\n",
      "(2, 'Hot Weather', 'The weather is very hot today', 2)\n",
      "(3, 'Help', 'I need some help with my work', 2)\n",
      "(4, 'Great News', 'I am getting married', 1)\n",
      "(5, 'Interesting Game', 'It was a fantastic game of tennis', 5)\n",
      "(6, 'Party', 'Anyone up for a late-night party today?', 3)\n",
      "(7, 'Happy', 'I am feeling very happy today', 1)\n",
      "(8, 'Hot Weather', 'The weather is very hot today', 2)\n",
      "(9, 'Help', 'I need some help with my work', 2)\n",
      "(10, 'Great News', 'I am getting married', 1)\n",
      "(11, 'Interesting Game', 'It was a fantastic game of tennis', 5)\n",
      "(12, 'Party', 'Anyone up for a late-night party today?', 3)\n",
      "(13, 'Happy', 'I am feeling very happy today', 1)\n",
      "(14, 'Hot Weather', 'The weather is very hot today', 2)\n",
      "(15, 'Help', 'I need some help with my work', 2)\n",
      "(16, 'Great News', 'I am getting married', 1)\n",
      "(17, 'Interesting Game', 'It was a fantastic game of tennis', 5)\n",
      "(18, 'Party', 'Anyone up for a late-night party today?', 3)\n"
     ]
    }
   ],
   "source": [
    "selct_post = \"SELECT * from post\"\n",
    "post = execute_read_query(connection, selct_post)\n",
    "\n",
    "for posts in post:\n",
    "    print(posts)"
   ]
  },
  {
   "cell_type": "code",
   "execution_count": 19,
   "id": "07512915",
   "metadata": {},
   "outputs": [
    {
     "name": "stdout",
     "output_type": "stream",
     "text": [
      "(1, 'James', 'I am feeling very happy today')\n",
      "(2, 'Leila', 'The weather is very hot today')\n",
      "(2, 'Leila', 'I need some help with my work')\n",
      "(1, 'James', 'I am getting married')\n",
      "(5, 'Elizabeth', 'It was a fantastic game of tennis')\n",
      "(3, 'Brigitte', 'Anyone up for a late-night party today?')\n",
      "(1, 'James', 'I am feeling very happy today')\n",
      "(2, 'Leila', 'The weather is very hot today')\n",
      "(2, 'Leila', 'I need some help with my work')\n",
      "(1, 'James', 'I am getting married')\n",
      "(5, 'Elizabeth', 'It was a fantastic game of tennis')\n",
      "(3, 'Brigitte', 'Anyone up for a late-night party today?')\n",
      "(1, 'James', 'I am feeling very happy today')\n",
      "(2, 'Leila', 'The weather is very hot today')\n",
      "(2, 'Leila', 'I need some help with my work')\n",
      "(1, 'James', 'I am getting married')\n",
      "(5, 'Elizabeth', 'It was a fantastic game of tennis')\n",
      "(3, 'Brigitte', 'Anyone up for a late-night party today?')\n"
     ]
    }
   ],
   "source": [
    "select_from_post = \"\"\"\n",
    "    SELECT\n",
    "    users.id,\n",
    "    users.name,\n",
    "    post.description\n",
    "    FROM\n",
    "    post\n",
    "    INNER JOIN users ON users.id = post.user_id\n",
    "    \n",
    "\"\"\"\n",
    "\n",
    "users_posts = execute_read_query(connection, select_from_post)\n",
    "\n",
    "for user_post in users_posts:\n",
    "    print(user_post)"
   ]
  },
  {
   "cell_type": "code",
   "execution_count": 22,
   "id": "01e039c8",
   "metadata": {},
   "outputs": [
    {
     "name": "stdout",
     "output_type": "stream",
     "text": [
      "('Anyone up for a late-night party today?', 'Count me in', 'James')\n",
      "('I need some help with my work', 'What sort of help?', 'Elizabeth')\n",
      "('I am getting married', 'Congrats buddy', 'Leila')\n",
      "('It was a fantastic game of tennis', 'I was rooting for Nadal though', 'Mike')\n",
      "('I need some help with my work', 'Help with your thesis?', 'Leila')\n",
      "('I am getting married', 'Many congratulations', 'Elizabeth')\n",
      "('Anyone up for a late-night party today?', 'Count me in', 'James')\n",
      "('I need some help with my work', 'What sort of help?', 'Elizabeth')\n",
      "('I am getting married', 'Congrats buddy', 'Leila')\n",
      "('It was a fantastic game of tennis', 'I was rooting for Nadal though', 'Mike')\n",
      "('I need some help with my work', 'Help with your thesis?', 'Leila')\n",
      "('I am getting married', 'Many congratulations', 'Elizabeth')\n",
      "('Anyone up for a late-night party today?', 'Count me in', 'James')\n",
      "('I need some help with my work', 'What sort of help?', 'Elizabeth')\n",
      "('I am getting married', 'Congrats buddy', 'Leila')\n",
      "('It was a fantastic game of tennis', 'I was rooting for Nadal though', 'Mike')\n",
      "('I need some help with my work', 'Help with your thesis?', 'Leila')\n",
      "('I am getting married', 'Many congratulations', 'Elizabeth')\n"
     ]
    }
   ],
   "source": [
    "select_post_comments = \"\"\"\n",
    "    SELECT \n",
    "        post.description as post,\n",
    "        text as comment,\n",
    "        name\n",
    "    FROM\n",
    "        post\n",
    "        INNER JOIN comments ON post.id = comments.post_id\n",
    "        INNER JOIN users ON users.id = comments.user_id\n",
    "    \n",
    "\"\"\"\n",
    "execute_post_com = execute_read_query(connection, select_post_comments)\n",
    "\n",
    "for p_c in execute_post_com:\n",
    "    print(p_c)"
   ]
  },
  {
   "cell_type": "code",
   "execution_count": 23,
   "id": "061c63a9",
   "metadata": {},
   "outputs": [
    {
     "name": "stdout",
     "output_type": "stream",
     "text": [
      "['post', 'comment', 'name']\n"
     ]
    }
   ],
   "source": [
    "cursor = connection.cursor()\n",
    "cursor.execute(select_post_comments)\n",
    "cursor.fetchall()\n",
    "\n",
    "execute_names = [description[0] for description in cursor.description]\n",
    "print(execute_names)"
   ]
  },
  {
   "cell_type": "code",
   "execution_count": 25,
   "id": "7708b8ea",
   "metadata": {},
   "outputs": [
    {
     "name": "stdout",
     "output_type": "stream",
     "text": [
      "('The weather is very hot today', 3)\n",
      "('I need some help with my work', 3)\n",
      "('I am getting married', 6)\n",
      "('It was a fantastic game of tennis', 3)\n",
      "('Anyone up for a late-night party today?', 6)\n"
     ]
    }
   ],
   "source": [
    "select_likes_posts = \"\"\"\n",
    "    SELECT \n",
    "        description as Post,\n",
    "        COUNT(likes.id) as Likes\n",
    "    FROM\n",
    "        post,\n",
    "        likes\n",
    "    WHERE\n",
    "        post.id = likes.post_id\n",
    "    GROUP BY\n",
    "        likes.post_id\n",
    "\"\"\"\n",
    "execute_likes_posts = execute_read_query(connection, select_likes_posts)\n",
    "\n",
    "for li_po in execute_likes_posts:\n",
    "    print(li_po)"
   ]
  },
  {
   "cell_type": "code",
   "execution_count": 26,
   "id": "42b195d5",
   "metadata": {},
   "outputs": [],
   "source": [
    "#Update records"
   ]
  },
  {
   "cell_type": "code",
   "execution_count": 31,
   "id": "8c08489b",
   "metadata": {},
   "outputs": [
    {
     "name": "stdout",
     "output_type": "stream",
     "text": [
      "('The weather is very hot today',)\n"
     ]
    }
   ],
   "source": [
    "select_sec_post = \"SELECT description FROM post WHERE id=2\"\n",
    "ex_sec_post = execute_read_query(connection, select_sec_post)\n",
    "\n",
    "for sec in ex_sec_post:\n",
    "    print(sec)"
   ]
  },
  {
   "cell_type": "code",
   "execution_count": 34,
   "id": "716aa929",
   "metadata": {},
   "outputs": [
    {
     "name": "stdout",
     "output_type": "stream",
     "text": [
      "Query has been done successfully\n"
     ]
    }
   ],
   "source": [
    "update_post_desc=\"\"\"\n",
    "    UPDATE\n",
    "        post\n",
    "    SET\n",
    "        description=\"The weather is pleasant today\"\n",
    "    WHERE\n",
    "    id=2\n",
    "\"\"\"\n",
    "\n",
    "execute_query(connection, update_post_desc)"
   ]
  },
  {
   "cell_type": "code",
   "execution_count": 35,
   "id": "76a519d3",
   "metadata": {},
   "outputs": [
    {
     "name": "stdout",
     "output_type": "stream",
     "text": [
      "('The weather is pleasant today',)\n"
     ]
    }
   ],
   "source": [
    "select_sec_post = \"SELECT description FROM post WHERE id=2\"\n",
    "ex_sec_post = execute_read_query(connection, select_sec_post)\n",
    "\n",
    "for sec in ex_sec_post:\n",
    "    print(sec)"
   ]
  },
  {
   "cell_type": "code",
   "execution_count": 36,
   "id": "cc9ca0d8",
   "metadata": {},
   "outputs": [],
   "source": [
    "#DELETING TADBLE RECORDS"
   ]
  },
  {
   "cell_type": "code",
   "execution_count": 37,
   "id": "7ce2e131",
   "metadata": {},
   "outputs": [
    {
     "name": "stdout",
     "output_type": "stream",
     "text": [
      "Query has been done successfully\n"
     ]
    }
   ],
   "source": [
    "delete_row = \"DELETE FROM comments WHERE id=5\"\n",
    "execute_query(connection, delete_row)"
   ]
  },
  {
   "cell_type": "code",
   "execution_count": null,
   "id": "0c31f164",
   "metadata": {},
   "outputs": [],
   "source": []
  }
 ],
 "metadata": {
  "kernelspec": {
   "display_name": "Python 3 (ipykernel)",
   "language": "python",
   "name": "python3"
  },
  "language_info": {
   "codemirror_mode": {
    "name": "ipython",
    "version": 3
   },
   "file_extension": ".py",
   "mimetype": "text/x-python",
   "name": "python",
   "nbconvert_exporter": "python",
   "pygments_lexer": "ipython3",
   "version": "3.9.7"
  }
 },
 "nbformat": 4,
 "nbformat_minor": 5
}
